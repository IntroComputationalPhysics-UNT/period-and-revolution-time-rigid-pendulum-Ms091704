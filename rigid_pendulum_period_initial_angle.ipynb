{
  "cells": [
    {
      "cell_type": "markdown",
      "metadata": {
        "id": "view-in-github",
        "colab_type": "text"
      },
      "source": [
        "<a href=\"https://colab.research.google.com/github/IntroComputationalPhysics-UNT/period-and-revolution-time-rigid-pendulum-Ms091704/blob/main/rigid_pendulum_period_initial_angle.ipynb\" target=\"_parent\"><img src=\"https://colab.research.google.com/assets/colab-badge.svg\" alt=\"Open In Colab\"/></a>"
      ]
    },
    {
      "cell_type": "markdown",
      "source": [
        "## Extracting the period of the rigid pendulum\n",
        "\n",
        "**[description of the notebook]**\n",
        "\n",
        "### Pseudocode\n",
        "1. **Import needed modules:** `numpy` for special functions and linear algebra; `matplotlib.pyplot` for plotting; `scipy.integrate` for `solve_ivp` for finding the pendulum trajectory, and `quad` for integration.\n",
        "2. **Define ODE function and the integrand:** [add details]\n",
        "3. **Create utilities:** some basic plotting functions...\n",
        "4. **Extract the period using the integral:** ...\n",
        "5. **Extract the period using the differential equation:**...\n",
        "6. **Plot both results and compare:**..."
      ],
      "metadata": {
        "id": "KYMzmFkbWs5g"
      }
    },
    {
      "cell_type": "code",
      "execution_count": 45,
      "metadata": {
        "id": "lIYdn1woOS1n"
      },
      "outputs": [],
      "source": [
        "# import modules\n",
        "import numpy as np\n",
        "import matplotlib.pyplot as plt\n",
        "from scipy.integrate import solve_ivp, quad"
      ]
    },
    {
      "cell_type": "markdown",
      "source": [
        "### Define ODE function and the integrand\n",
        "\n",
        "1. `rigid_pendulum_ode(t, y, omega_0=1)` gives the differential equation for the rigid pendulum in the form needed for `solve_ivp`.\n",
        "2. `period_integrand(theta, theta_0, omega_0=1)` gives the integrand in a form that can used with `quad`."
      ],
      "metadata": {
        "id": "lViEf9T5R9ar"
      }
    },
    {
      "cell_type": "code",
      "source": [
        "# define the rigid pendulum ODE and the integrand for integration with quad\n",
        "\n",
        "# rigid pendulum ode\n",
        "def rigid_pendulum_ode(t, y, omega_0=1):\n",
        "  \"\"\"\n",
        "  \"\"\"\n",
        "  theta, ang_vel = y # unpacking our state variable\n",
        "  dtheta_dt = ang_vel # first derivative\n",
        "  d2theta_dt2 = - omega_0**2 * np.sin(theta) # second derivative\n",
        "  dy_dt = [dtheta_dt, d2theta_dt2] # derivative of state variable\n",
        "  return dy_dt\n",
        "\n",
        "# define the integrand for the period\n",
        "def period_integrand(theta, theta_0, omega_0=1):\n",
        "  \"\"\"\n",
        "  \"\"\"\n",
        "  coeff = 4/(np.sqrt(2)*omega_0) # leading coefficient of the integrand\n",
        "  denominator = np.sqrt( np.cos(theta) - np.cos(theta_0) ) # denominator of integrand\n",
        "  return coeff/denominator\n",
        "\n",
        "def Revolution_integrand(theta, theta_0, ang_vel_0, omega_0=1):\n",
        "  \"\"\"\n",
        "  \"\"\"\n",
        "  coeff = 1/(np.sqrt(2)*omega_0) # leading coefficient of the integrand\n",
        "  denominator = np.sqrt( np.cos(theta) - 1 + (ang_vel_0**2)/(2*(omega_0**2))) # denominator of integrand\n",
        "  return coeff/denominator"
      ],
      "metadata": {
        "id": "dgcId07PYq88"
      },
      "execution_count": 46,
      "outputs": []
    },
    {
      "cell_type": "markdown",
      "source": [
        "### Create utilities\n",
        "\n",
        "1. `basic_plot(x, y, xlabel=None, ylabel=None, figsize=(3,3))` creates a simple plot for fast evaluation of data, visually.\n",
        "2. `ang_vel_zero_event(t, y, omega_0=1)` creates an event for `solve_ivp` (`ang_vel=0`).\n",
        "3. `extract_period_int(n_points, eps=1e-3, omega_0=1)` extracts the period on a mesh of `theta_0` using the integral method.\n",
        "4. `extract_period_ode(n_points, eps=1e-3, omega_0=1)` extracts the perido with `solve_ivp` events."
      ],
      "metadata": {
        "id": "Jt2RB7GSSlzD"
      }
    },
    {
      "cell_type": "code",
      "source": [
        "# create utilities\n",
        "\n",
        "# basic plotting\n",
        "def basic_plot(x, y, xlabel=None, ylabel=None, figsize=(3,3)):\n",
        "  \"\"\"\n",
        "  \"\"\"\n",
        "  plt.figure(figsize=figsize)\n",
        "  plt.plot(x, y)\n",
        "  plt.xlabel(xlabel)\n",
        "  plt.ylabel(ylabel)\n",
        "  return plt.show()\n",
        "\n",
        "# define the event function: ang_vel = 0\n",
        "def ang_vel_zero_event(t, y, omega_0=1):\n",
        "  \"\"\"\n",
        "  \"\"\"\n",
        "  theta, ang_vel = y # unpack state variable\n",
        "  return ang_vel # set to find values where ang_vel = 0\n",
        "\n",
        "# add required attributes to the event function\n",
        "ang_vel_zero_event.terminal = False # keep integrating after event(s) are found\n",
        "ang_vel_zero_event.direction = -1 # track zeros when going from positive to negative\n",
        "\n",
        "def T_Revolution_event(t, y, theta_0):\n",
        "    theta, ang_vel = y\n",
        "    return theta - (theta_0 + 2 * np.pi)  # triggers when θ increases by 2π\n",
        "\n",
        "T_Revolution_event.terminal = True\n",
        "T_Revolution_event.direction = 1  # only detect forward crossing\n",
        "\n",
        "\n",
        "# extract period on mesh of theta_0 values\n",
        "def extract_period_int(n_points, eps=1e-3, omega_0=1):\n",
        "  \"\"\"\n",
        "  You should fill this out with the details...\n",
        "  \"\"\"\n",
        "\n",
        "  # extract period with integral on a list of initial angles\n",
        "  theta_0_list = np.linspace(eps, np.pi - eps, n_points) # list of initial angles\n",
        "\n",
        "  period_list_int = [] # initialize list of periods\n",
        "\n",
        "  for theta_0 in theta_0_list:\n",
        "    period, err = quad(period_integrand, 0, theta_0, args=(theta_0, omega_0))\n",
        "    period_list_int.append(period)\n",
        "\n",
        "  period_list_int = np.array(period_list_int) # convert to a numpy array\n",
        "\n",
        "  period_list_int = np.concatenate([period_list_int[::-1], period_list_int]) # enforcing symmetry to extend data\n",
        "  theta_0_list = np.concatenate([-theta_0_list[::-1], theta_0_list]) # enforcing symmetry to extend data\n",
        "  return theta_0_list, period_list_int\n",
        "\n",
        "\n",
        "# extract period with solve_ivp evetns\n",
        "def extract_period_ode(n_points, eps=1e-3, omega_0=1):\n",
        "  \"\"\"\n",
        "  Extract period with solve_ivp events on a list of initial angles\n",
        "  You should fill this out with the details...\n",
        "  \"\"\"\n",
        "  theta_0_list = np.linspace(eps, np.pi - eps, n_points) # list of initial angles\n",
        "\n",
        "  # range of times for integrating\n",
        "  t_min = 0\n",
        "  t_max = 100\n",
        "  t_span = [t_min, t_max] # time span for solve_ivp\n",
        "\n",
        "  period_list_ode = [] # initialize list of periods\n",
        "  for theta_0 in theta_0_list:\n",
        "    # define state variable for run\n",
        "    y_0 = [theta_0, 0] # initial condition\n",
        "\n",
        "    # solve differential equation\n",
        "    sol = solve_ivp(rigid_pendulum_ode, t_span, y_0, args=(omega_0,),\n",
        "                    max_step = 0.01,\n",
        "                    dense_output=False,\n",
        "                    events=ang_vel_zero_event\n",
        "                    )\n",
        "    # output the extracted period\n",
        "    period = np.mean(np.diff(sol.t_events)) # define period\n",
        "    period_list_ode.append(period) # append period\n",
        "\n",
        "  period_list_ode = np.array(period_list_ode) # convert to a numpy array\n",
        "\n",
        "  period_list_ode = np.concatenate([period_list_ode[::-1], period_list_ode]) # enforcing symmetry to extend data\n",
        "  theta_0_list = np.concatenate([-theta_0_list[::-1], theta_0_list]) # enforcing symmetry to extend data\n",
        "  return theta_0_list, period_list_ode\n",
        "\n",
        "def Extract_Rev(n_points, theta_0=0, omega_0=1):\n",
        "  ang_vel_list = np.linspace(2*omega_0,10, n_points)\n",
        "  rev_ode=[]\n",
        "  t_span = [0,100]\n",
        "  for ang_vel_0 in ang_vel_list:\n",
        "    y0=[theta_0, ang_vel_0]\n",
        "    sol = solve_ivp(rigid_pendulum_ode, t_span, y0, args=(omega_0,), max_step = 0.01, events=T_Revolution_event)\n",
        "\n",
        "    if len(sol.t_events[0])>0:\n",
        "      rev_ode.append(sol.t_events[0][0])\n",
        "    else:\n",
        "      rev_ode.append(np.nan)\n",
        "  return ang_vel_list, rev_ode\n",
        "\n",
        "def Extract_Rev_int(n_points, theta_0=0, omega_0=1):\n",
        "  ang_vel_list = np.linspace(2*omega_0,10, n_points)\n",
        "  rev_integral=[]\n",
        "  for ang_vel_0 in ang_vel_list:\n",
        "    quad_rev, err = quad(Revolution_integrand, 0, 2 * np.pi, args=(theta_0, ang_vel_0, omega_0))\n",
        "    rev_integral.append(quad_rev)\n",
        "  return ang_vel_list, rev_integral"
      ],
      "metadata": {
        "id": "3cMgQVnRhuX3"
      },
      "execution_count": 58,
      "outputs": []
    },
    {
      "cell_type": "markdown",
      "source": [
        "### Testing the integration approach"
      ],
      "metadata": {
        "id": "97qgQKfLSya2"
      }
    },
    {
      "cell_type": "code",
      "source": [
        "# # test the integral\n",
        "# theta_0 = np.pi/2 # initial angle\n",
        "# omega_0 = 1 # natural frequency\n",
        "# period, err = quad(period_integrand, 0, theta_0, args=(theta_0, omega_0))\n",
        "\n",
        "# print(period / (2*np.pi))"
      ],
      "metadata": {
        "id": "eAK-Dg_rYsYF"
      },
      "execution_count": 48,
      "outputs": []
    },
    {
      "cell_type": "code",
      "source": [
        "# n_points = 50 # number of initial angles\n",
        "# theta_0_list, period_list_int = extract_period_int(n_points) # extract period on mesh of theta_0\n",
        "# basic_plot(theta_0_list, period_list_int, xlabel='theta_0', ylabel='period') # plot"
      ],
      "metadata": {
        "id": "vREj8Bing35q"
      },
      "execution_count": 49,
      "outputs": []
    },
    {
      "cell_type": "markdown",
      "source": [
        "### Test the `solve_ivp` approach"
      ],
      "metadata": {
        "id": "fNkdc_N-VE8S"
      }
    },
    {
      "cell_type": "code",
      "source": [
        "# # testing the solve_ivp + event approach\n",
        "\n",
        "# # range of times for integrating\n",
        "# t_min = 0\n",
        "# t_max = 100\n",
        "# t_span = [t_min, t_max] # time span for solve_ivp\n",
        "\n",
        "# # state variable\n",
        "# theta_0 = np.pi - 0.001 # initial angle\n",
        "# y_0 = [theta_0, 0] # initial condition\n",
        "\n",
        "# # parameters\n",
        "# omega_0 = 1 # natural frequency\n",
        "\n",
        "# # solve differential equation\n",
        "# sol = solve_ivp(rigid_pendulum_ode, t_span, y_0, args=(omega_0,),\n",
        "#                 max_step = 0.01,\n",
        "#                 dense_output=True,\n",
        "#                 events=ang_vel_zero_event\n",
        "#                 )\n",
        "\n",
        "# # output the extracted period\n",
        "# period = np.mean(np.diff(sol.t_events))\n",
        "# print(period)\n",
        "\n",
        "# # quick plot\n",
        "# t_plot = np.linspace(t_min, t_max, 1000)\n",
        "# theta_plot = sol.sol(t_plot)[0]\n",
        "# ang_vel_plot = sol.sol(t_plot)[1]\n",
        "# basic_plot(t_plot, theta_plot, xlabel='t', ylabel='theta', figsize=(12,2))\n",
        "# basic_plot(t_plot, ang_vel_plot, xlabel='t', ylabel='ang_vel', figsize=(12,2))"
      ],
      "metadata": {
        "id": "gfVl5Zk-hmFP"
      },
      "execution_count": 50,
      "outputs": []
    },
    {
      "cell_type": "code",
      "source": [
        "# n_points = 20 # number of theta_0 values\n",
        "# theta_0_list_ode, period_list_ode = extract_period_ode(n_points)"
      ],
      "metadata": {
        "id": "3NhfcwYOnPvV"
      },
      "execution_count": 51,
      "outputs": []
    },
    {
      "cell_type": "code",
      "source": [
        "# basic_plot(theta_0_list_ode, period_list_ode, xlabel='theta_0', ylabel='period',figsize=(3,3))"
      ],
      "metadata": {
        "id": "ELV583WCnXuw"
      },
      "execution_count": 52,
      "outputs": []
    },
    {
      "cell_type": "markdown",
      "source": [
        "### Compare the period extracted in the two different ways"
      ],
      "metadata": {
        "id": "LRhdKfjqol1j"
      }
    },
    {
      "cell_type": "code",
      "source": [
        "# extract period with the integral approach\n",
        "n_points_int = 100 # number of initial angles\n",
        "theta_0_list_int, period_list_int = extract_period_int(n_points_int) # extract period on mesh of theta_0\n",
        "\n",
        "# extract the period with the solve_ivp approach\n",
        "n_points_ode = 20 # number of theta_0 values\n",
        "theta_0_list_ode, period_list_ode = extract_period_ode(n_points_ode) # extract period on mesh of theta_0\n",
        "\n",
        "n_points_ode = 20\n",
        "omega_0 = 1\n",
        "\n",
        "# Using solve_ivp\n",
        "ang_vel_list_ode, rev_ode = Extract_Rev(n_points_ode, omega_0=omega_0)\n",
        "\n",
        "# Using integral\n",
        "n_points_int = 20\n",
        "ang_vel_list_int, rev_integral = Extract_Rev_int(n_points_int, omega_0=omega_0)\n",
        "\n"
      ],
      "metadata": {
        "id": "YA-oa-lDnvef",
        "colab": {
          "base_uri": "https://localhost:8080/"
        },
        "outputId": "74e67c47-2e62-43f2-fca8-de896486d2cf"
      },
      "execution_count": 59,
      "outputs": [
        {
          "output_type": "stream",
          "name": "stderr",
          "text": [
            "/tmp/ipython-input-1621608118.py:26: RuntimeWarning: divide by zero encountered in scalar divide\n",
            "  return coeff/denominator\n"
          ]
        }
      ]
    },
    {
      "cell_type": "code",
      "source": [
        "# plot them together\n",
        "plt.figure(figsize=(5,3))\n",
        "plt.plot(theta_0_list_int, period_list_int, label='integral')\n",
        "plt.plot(theta_0_list_ode, period_list_ode, '.', label='solve_ivp')\n",
        "plt.xlabel('$\\\\theta_0$')\n",
        "plt.ylabel('$T$')\n",
        "plt.xlim(-np.pi-0.2, np.pi+0.2)\n",
        "plt.ylim(0, 40)\n",
        "plt.legend()\n",
        "plt.show()"
      ],
      "metadata": {
        "colab": {
          "base_uri": "https://localhost:8080/",
          "height": 320
        },
        "id": "p9UU2424pB5w",
        "outputId": "d3f23a67-4f7e-43ff-dee9-0f4833195139"
      },
      "execution_count": 61,
      "outputs": [
        {
          "output_type": "display_data",
          "data": {
            "text/plain": [
              "<Figure size 500x300 with 1 Axes>"
            ],
            "image/png": "[encoded data removed]"
          },
          "metadata": {}
        }
      ]
    },
    {
      "cell_type": "code",
      "source": [
        "plt.figure(figsize=(7, 4))\n",
        "plt.plot(ang_vel_list_int, rev_integral, label='Integral Method')\n",
        "plt.plot(ang_vel_list_ode, rev_ode, 'o', label='ODE Method (solve_ivp)')\n",
        "plt.xlabel('Angular Velocity')\n",
        "plt.ylabel('Revolution Time')\n",
        "plt.title('Pendulum Revolution Time vs Initial Angular Velocity')\n",
        "plt.legend()\n",
        "plt.tight_layout()\n",
        "plt.show()"
      ],
      "metadata": {
        "id": "J6k_K-urpfgi",
        "colab": {
          "base_uri": "https://localhost:8080/",
          "height": 407
        },
        "outputId": "5b3cedab-b8db-49aa-a520-e7159518e658"
      },
      "execution_count": 66,
      "outputs": [
        {
          "output_type": "display_data",
          "data": {
            "text/plain": [
              "<Figure size 700x400 with 1 Axes>"
            ],
            "image/png": "[encoded data removed]"
          },
          "metadata": {}
        }
      ]
    }
  ],
  "metadata": {
    "colab": {
      "provenance": [],
      "collapsed_sections": [
        "97qgQKfLSya2",
        "fNkdc_N-VE8S"
      ],
      "include_colab_link": true
    },
    "kernelspec": {
      "display_name": "Python 3",
      "name": "python3"
    }
  },
  "nbformat": 4,
  "nbformat_minor": 0
}